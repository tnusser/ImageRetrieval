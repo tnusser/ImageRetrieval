{
  "nbformat": 4,
  "nbformat_minor": 0,
  "metadata": {
    "colab": {
      "name": "Autoencoder.ipynb",
      "provenance": [],
      "collapsed_sections": [],
      "authorship_tag": "ABX9TyO9kMI1Gd6GuWc+d0c0hhbA",
      "include_colab_link": true
    },
    "kernelspec": {
      "name": "python3",
      "display_name": "Python 3"
    }
  },
  "cells": [
    {
      "cell_type": "markdown",
      "metadata": {
        "id": "view-in-github",
        "colab_type": "text"
      },
      "source": [
        "<a href=\"https://colab.research.google.com/github/tnusser/ImageRetrieval/blob/master/Autoencoder.ipynb\" target=\"_parent\"><img src=\"https://colab.research.google.com/assets/colab-badge.svg\" alt=\"Open In Colab\"/></a>"
      ]
    },
    {
      "cell_type": "markdown",
      "metadata": {
        "id": "A5gwCV5LNLyo",
        "colab_type": "text"
      },
      "source": [
        "## Imports\n"
      ]
    },
    {
      "cell_type": "code",
      "metadata": {
        "id": "47iPDj092a3d",
        "colab_type": "code",
        "colab": {}
      },
      "source": [
        "import tensorflow as tf\n",
        "import numpy as np\n",
        "import sklearn\n",
        "from keras.layers import Input, Dense, Conv2D, MaxPooling2D, UpSampling2D, BatchNormalization, Activation, Flatten, Conv2DTranspose, Reshape\n",
        "from keras.models import Model, Sequential\n",
        "import keras.backend as K \n",
        "import matplotlib.pyplot as plt"
      ],
      "execution_count": 40,
      "outputs": []
    },
    {
      "cell_type": "markdown",
      "metadata": {
        "id": "AGqLQ2-dNPtu",
        "colab_type": "text"
      },
      "source": [
        "## 3.1 Dataset Preparation"
      ]
    },
    {
      "cell_type": "code",
      "metadata": {
        "id": "C-oMdxJ12Pkd",
        "colab_type": "code",
        "colab": {
          "base_uri": "https://localhost:8080/",
          "height": 51
        },
        "outputId": "a24690aa-2939-4efb-cd4d-0915cb04cf3e"
      },
      "source": [
        " (raw_x_train, raw_y_train), (raw_x_test, raw_y_test) = tf.keras.datasets.cifar10.load_data()"
      ],
      "execution_count": 2,
      "outputs": [
        {
          "output_type": "stream",
          "text": [
            "Downloading data from https://www.cs.toronto.edu/~kriz/cifar-10-python.tar.gz\n",
            "170500096/170498071 [==============================] - 4s 0us/step\n"
          ],
          "name": "stdout"
        }
      ]
    },
    {
      "cell_type": "code",
      "metadata": {
        "id": "tO4GrR8ODQmf",
        "colab_type": "code",
        "colab": {}
      },
      "source": [
        "x_train = (raw_x_train/255).astype(\"float32\")\n",
        "x_test = (raw_x_test/255).astype(\"float32\")"
      ],
      "execution_count": 97,
      "outputs": []
    },
    {
      "cell_type": "markdown",
      "metadata": {
        "id": "lzFTPoqeNVpG",
        "colab_type": "text"
      },
      "source": [
        "## 3.2 Building the Autoencoder"
      ]
    },
    {
      "cell_type": "code",
      "metadata": {
        "id": "rc9XlTydNY9e",
        "colab_type": "code",
        "colab": {}
      },
      "source": [
        "x_val = x_train[:10000]\n",
        "x_train = x_train[10000:150000]"
      ],
      "execution_count": 98,
      "outputs": []
    },
    {
      "cell_type": "code",
      "metadata": {
        "id": "U4crh9R2RWde",
        "colab_type": "code",
        "colab": {
          "base_uri": "https://localhost:8080/",
          "height": 731
        },
        "outputId": "44f04133-de79-4f75-d83e-a5b80f6a8f65"
      },
      "source": [
        "i = Input(shape=(32, 32, 3))\n",
        "e1 = Conv2D(32, (3, 3), activation='relu', padding='same')(i)\n",
        "e2 = MaxPooling2D(pool_size=(3, 3))(e1)\n",
        "e3 = Conv2D(64, (3, 3), activation=\"relu\")(e2)\n",
        "e4 = MaxPooling2D(pool_size=(3, 3))(e3)\n",
        "e5 = Flatten()(e4)\n",
        "e6 = Dense(10, activation='relu')(e5)\n",
        "\n",
        "encoder = Model(i, e6, name='encoder')\n",
        "encoder.summary()\n",
        "\n",
        "conv_shape = K.int_shape(e1)\n",
        "d_i = Input(shape=(10,))\n",
        "d1 = Dense(conv_shape[1] * conv_shape[2] * conv_shape[3], activation='relu',)(d_i)\n",
        "d2 = Reshape((conv_shape[1], conv_shape[2], conv_shape[3]))(d1)\n",
        "d3 = Conv2DTranspose(filters=16, kernel_size=3, activation=\"relu\", padding=\"same\")(d2)\n",
        "d4 = BatchNormalization()(d3)\n",
        "d5 = Conv2DTranspose(filters=3, kernel_size=3, activation=\"sigmoid\", padding=\"same\")(d4)\n",
        "\n",
        "decoder = Model(d_i, d5, name='decoder')\n",
        "decoder.summary()\n"
      ],
      "execution_count": 93,
      "outputs": [
        {
          "output_type": "stream",
          "text": [
            "Model: \"encoder\"\n",
            "_________________________________________________________________\n",
            "Layer (type)                 Output Shape              Param #   \n",
            "=================================================================\n",
            "input_65 (InputLayer)        (None, 32, 32, 3)         0         \n",
            "_________________________________________________________________\n",
            "conv2d_103 (Conv2D)          (None, 32, 32, 32)        896       \n",
            "_________________________________________________________________\n",
            "max_pooling2d_98 (MaxPooling (None, 10, 10, 32)        0         \n",
            "_________________________________________________________________\n",
            "conv2d_104 (Conv2D)          (None, 8, 8, 64)          18496     \n",
            "_________________________________________________________________\n",
            "max_pooling2d_99 (MaxPooling (None, 2, 2, 64)          0         \n",
            "_________________________________________________________________\n",
            "flatten_54 (Flatten)         (None, 256)               0         \n",
            "_________________________________________________________________\n",
            "dense_67 (Dense)             (None, 10)                2570      \n",
            "=================================================================\n",
            "Total params: 21,962\n",
            "Trainable params: 21,962\n",
            "Non-trainable params: 0\n",
            "_________________________________________________________________\n",
            "Model: \"decoder\"\n",
            "_________________________________________________________________\n",
            "Layer (type)                 Output Shape              Param #   \n",
            "=================================================================\n",
            "input_66 (InputLayer)        (None, 10)                0         \n",
            "_________________________________________________________________\n",
            "dense_68 (Dense)             (None, 32768)             360448    \n",
            "_________________________________________________________________\n",
            "reshape_21 (Reshape)         (None, 32, 32, 32)        0         \n",
            "_________________________________________________________________\n",
            "conv2d_transpose_22 (Conv2DT (None, 32, 32, 16)        4624      \n",
            "_________________________________________________________________\n",
            "batch_normalization_6 (Batch (None, 32, 32, 16)        64        \n",
            "_________________________________________________________________\n",
            "conv2d_transpose_23 (Conv2DT (None, 32, 32, 3)         435       \n",
            "=================================================================\n",
            "Total params: 365,571\n",
            "Trainable params: 365,539\n",
            "Non-trainable params: 32\n",
            "_________________________________________________________________\n"
          ],
          "name": "stdout"
        }
      ]
    },
    {
      "cell_type": "code",
      "metadata": {
        "id": "Mn5f3SinTf_h",
        "colab_type": "code",
        "colab": {
          "base_uri": "https://localhost:8080/",
          "height": 255
        },
        "outputId": "8fc60ba5-38d8-4785-9710-91c2866a1bad"
      },
      "source": [
        "autoencoder_outputs = decoder(encoder(i))\n",
        "autoencoder = Model(i, autoencoder_outputs, name='autoencoder')\n",
        "autoencoder.summary()"
      ],
      "execution_count": 94,
      "outputs": [
        {
          "output_type": "stream",
          "text": [
            "Model: \"autoencoder\"\n",
            "_________________________________________________________________\n",
            "Layer (type)                 Output Shape              Param #   \n",
            "=================================================================\n",
            "input_65 (InputLayer)        (None, 32, 32, 3)         0         \n",
            "_________________________________________________________________\n",
            "encoder (Model)              (None, 10)                21962     \n",
            "_________________________________________________________________\n",
            "decoder (Model)              (None, 32, 32, 3)         365571    \n",
            "=================================================================\n",
            "Total params: 387,533\n",
            "Trainable params: 387,501\n",
            "Non-trainable params: 32\n",
            "_________________________________________________________________\n"
          ],
          "name": "stdout"
        }
      ]
    },
    {
      "cell_type": "code",
      "metadata": {
        "id": "YcOG15wsecbl",
        "colab_type": "code",
        "colab": {
          "base_uri": "https://localhost:8080/",
          "height": 136
        },
        "outputId": "4e44ef6f-aef0-44e9-8012-488c8bf94501"
      },
      "source": [
        "autoencoder.compile(optimizer='adam', loss='mean_squared_error', metrics=['accuracy'])\n",
        "history = autoencoder.fit(x_train, x_train, validation_data=(x_val, x_val), epochs=1, batch_size=1024)"
      ],
      "execution_count": 101,
      "outputs": [
        {
          "output_type": "stream",
          "text": [
            "Train on 40000 samples, validate on 10000 samples\n",
            "Epoch 1/3\n",
            "40000/40000 [==============================] - 114s 3ms/step - loss: 0.0330 - accuracy: 0.5678 - val_loss: 0.0560 - val_accuracy: 0.5443\n",
            "Epoch 2/3\n",
            "40000/40000 [==============================] - 117s 3ms/step - loss: 0.0304 - accuracy: 0.5825 - val_loss: 0.0544 - val_accuracy: 0.5523\n",
            "Epoch 3/3\n",
            "40000/40000 [==============================] - 114s 3ms/step - loss: 0.0300 - accuracy: 0.5846 - val_loss: 0.0521 - val_accuracy: 0.5656\n"
          ],
          "name": "stdout"
        }
      ]
    },
    {
      "cell_type": "code",
      "metadata": {
        "id": "uf70QgontumH",
        "colab_type": "code",
        "colab": {
          "base_uri": "https://localhost:8080/",
          "height": 54
        },
        "outputId": "e459a555-dafa-427a-eae3-d7a8b8e49382"
      },
      "source": [
        "print(history.history)"
      ],
      "execution_count": 103,
      "outputs": [
        {
          "output_type": "stream",
          "text": [
            "{'val_loss': [0.056010592728853226, 0.05437951844334602, 0.05213676424026489], 'val_accuracy': [0.5443210005760193, 0.5523285269737244, 0.5655810832977295], 'loss': [0.032980407989025115, 0.030429144033789636, 0.029966319340467455], 'accuracy': [0.56783724, 0.5824903, 0.58463347]}\n"
          ],
          "name": "stdout"
        }
      ]
    },
    {
      "cell_type": "code",
      "metadata": {
        "id": "WjObjy3mTvaX",
        "colab_type": "code",
        "colab": {
          "base_uri": "https://localhost:8080/",
          "height": 573
        },
        "outputId": "4334ea5d-4fde-49a1-e296-f7fd04d9cc61"
      },
      "source": [
        "# Loss plot\n",
        "history_dict = history.history\n",
        "loss_values = history_dict['loss']\n",
        "val_loss_values = history_dict['val_loss']\n",
        "epochs = range(1, len(loss_values) + 1)\n",
        "plt.plot(epochs, loss_values, 'bo', label='Training loss')\n",
        "plt.plot(epochs, val_loss_values, 'b', label='Validation loss')\n",
        "plt.title('Training and validation loss')\n",
        "plt.xlabel('Epochs')\n",
        "plt.ylabel('Loss')\n",
        "plt.legend()\n",
        "plt.show()\n",
        "\n",
        "# Accuracy plot\n",
        "plt.clf()\n",
        "acc_values = history_dict['accuracy']\n",
        "val_acc_values = history_dict['val_accuracy']\n",
        "plt.plot(epochs, acc_values, 'bo', label='Training acc')\n",
        "plt.plot(epochs, val_acc_values, 'b', label='Validation acc')\n",
        "plt.title('Training and validation accuracy')\n",
        "plt.xlabel('Epochs')\n",
        "plt.ylabel('Loss')\n",
        "plt.legend()\n",
        "plt.show()"
      ],
      "execution_count": 105,
      "outputs": [
        {
          "output_type": "display_data",
          "data": {
            "image/png": "[encoded data removed]",
            "text/plain": [
              "<Figure size 432x288 with 1 Axes>"
            ]
          },
          "metadata": {
            "tags": [],
            "needs_background": "light"
          }
        },
        {
          "output_type": "display_data",
          "data": {
            "image/png": "[encoded data removed]",
            "text/plain": [
              "<Figure size 432x288 with 1 Axes>"
            ]
          },
          "metadata": {
            "tags": [],
            "needs_background": "light"
          }
        }
      ]
    }
  ]
}