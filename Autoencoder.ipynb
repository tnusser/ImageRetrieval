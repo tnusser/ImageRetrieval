{
  "nbformat": 4,
  "nbformat_minor": 0,
  "metadata": {
    "colab": {
      "name": "Autoencoder.ipynb",
      "provenance": [],
      "collapsed_sections": [],
      "authorship_tag": "ABX9TyMDcMg742vqf90zRvRutEOo",
      "include_colab_link": true
    },
    "kernelspec": {
      "name": "python3",
      "display_name": "Python 3"
    }
  },
  "cells": [
    {
      "cell_type": "markdown",
      "metadata": {
        "id": "view-in-github",
        "colab_type": "text"
      },
      "source": [
        "<a href=\"https://colab.research.google.com/github/tnusser/ImageRetrieval/blob/master/Autoencoder.ipynb\" target=\"_parent\"><img src=\"https://colab.research.google.com/assets/colab-badge.svg\" alt=\"Open In Colab\"/></a>"
      ]
    },
    {
      "cell_type": "markdown",
      "metadata": {
        "id": "A5gwCV5LNLyo",
        "colab_type": "text"
      },
      "source": [
        "## Imports\n"
      ]
    },
    {
      "cell_type": "code",
      "metadata": {
        "id": "47iPDj092a3d",
        "colab_type": "code",
        "colab": {}
      },
      "source": [
        "import tensorflow as tf\n",
        "import numpy as np\n",
        "import sklearn\n",
        "from keras.layers import Input, Dense, Conv2D, MaxPooling2D, UpSampling2D, BatchNormalization, Activation, Flatten, Conv2DTranspose, Reshape\n",
        "from keras.models import Model, Sequential\n",
        "import keras.backend as K \n",
        "import matplotlib.pyplot as plt"
      ],
      "execution_count": 40,
      "outputs": []
    },
    {
      "cell_type": "markdown",
      "metadata": {
        "id": "AGqLQ2-dNPtu",
        "colab_type": "text"
      },
      "source": [
        "## 3.1 Dataset Preparation"
      ]
    },
    {
      "cell_type": "code",
      "metadata": {
        "id": "C-oMdxJ12Pkd",
        "colab_type": "code",
        "colab": {
          "base_uri": "https://localhost:8080/",
          "height": 51
        },
        "outputId": "a24690aa-2939-4efb-cd4d-0915cb04cf3e"
      },
      "source": [
        " (raw_x_train, raw_y_train), (raw_x_test, raw_y_test) = tf.keras.datasets.cifar10.load_data()"
      ],
      "execution_count": 2,
      "outputs": [
        {
          "output_type": "stream",
          "text": [
            "Downloading data from https://www.cs.toronto.edu/~kriz/cifar-10-python.tar.gz\n",
            "170500096/170498071 [==============================] - 4s 0us/step\n"
          ],
          "name": "stdout"
        }
      ]
    },
    {
      "cell_type": "code",
      "metadata": {
        "id": "tO4GrR8ODQmf",
        "colab_type": "code",
        "colab": {}
      },
      "source": [
        "x_train = (raw_x_train/255).astype(\"float32\")\n",
        "x_test = (raw_x_test/255).astype(\"float32\")"
      ],
      "execution_count": 3,
      "outputs": []
    },
    {
      "cell_type": "markdown",
      "metadata": {
        "id": "lzFTPoqeNVpG",
        "colab_type": "text"
      },
      "source": [
        "## 3.2 Building the Autoencoder"
      ]
    },
    {
      "cell_type": "code",
      "metadata": {
        "id": "rc9XlTydNY9e",
        "colab_type": "code",
        "colab": {}
      },
      "source": [
        "x_val = x_train[:3000]\n",
        "x_train = x_train[3000:15000]"
      ],
      "execution_count": 5,
      "outputs": []
    },
    {
      "cell_type": "code",
      "metadata": {
        "id": "U4crh9R2RWde",
        "colab_type": "code",
        "colab": {
          "base_uri": "https://localhost:8080/",
          "height": 663
        },
        "outputId": "787e1e7a-c2c9-4889-866c-3a4045f156b5"
      },
      "source": [
        "i = Input(shape=(32, 32, 3))\n",
        "e1 = Conv2D(32, (3, 3), activation='relu', padding='same')(i)\n",
        "e2 = MaxPooling2D(pool_size=(3, 3))(e1)\n",
        "e3 = Conv2D(64, (3, 3), activation=\"relu\")(e2)\n",
        "e4 = MaxPooling2D(pool_size=(3, 3))(e3)\n",
        "e5 = Flatten()(e4)\n",
        "e6 = Dense(10, activation='relu')(e5)\n",
        "\n",
        "# encoder = Model()\n",
        "# encoder.add(Conv2D(32, (3, 3), activation='relu', padding='same', input_shape=(32,32,3)))\n",
        "# encoder.add(MaxPooling2D(pool_size=(3, 3)))\n",
        "# encoder.add(Conv2D(64, (3, 3), activation=\"relu\"))\n",
        "# encoder.add(MaxPooling2D(pool_size=(3, 3)))\n",
        "# encoder.add(Flatten())\n",
        "# encoder.add(Dense(10, activation='relu'))\n",
        "# encoder.summary()\n",
        "# out_enc = encoder.layers[-1]\n",
        "\n",
        "encoder = Model(i, e6, name='encoder')\n",
        "encoder.summary()\n",
        "\n",
        "\n",
        "# decoder = Model()\n",
        "# decoder.add(Dense(conv_shape[1] * conv_shape[2] * conv_shape[3], activation='relu', input_shape=(10,)))\n",
        "# decoder.add(Reshape((conv_shape[1], conv_shape[2], conv_shape[3])))\n",
        "# decoder.add(Conv2DTranspose(filters=3, kernel_size=3, activation=\"relu\", padding=\"same\"))\n",
        "# decoder.summary()\n",
        "\n",
        "conv_shape = K.int_shape(e1)\n",
        "d_i = Input(shape=(10,))\n",
        "d1 = Dense(conv_shape[1] * conv_shape[2] * conv_shape[3], activation='relu',)(d_i)\n",
        "d2 = Reshape((conv_shape[1], conv_shape[2], conv_shape[3]))(d1)\n",
        "d3 = Conv2DTranspose(filters=3, kernel_size=3, activation=\"relu\", padding=\"same\")(d2)\n",
        "\n",
        "decoder = Model(d_i, d3, name='decoder')\n",
        "decoder.summary()\n"
      ],
      "execution_count": 67,
      "outputs": [
        {
          "output_type": "stream",
          "text": [
            "Model: \"encoder\"\n",
            "_________________________________________________________________\n",
            "Layer (type)                 Output Shape              Param #   \n",
            "=================================================================\n",
            "input_45 (InputLayer)        (None, 32, 32, 3)         0         \n",
            "_________________________________________________________________\n",
            "conv2d_83 (Conv2D)           (None, 32, 32, 32)        896       \n",
            "_________________________________________________________________\n",
            "max_pooling2d_78 (MaxPooling (None, 10, 10, 32)        0         \n",
            "_________________________________________________________________\n",
            "conv2d_84 (Conv2D)           (None, 8, 8, 64)          18496     \n",
            "_________________________________________________________________\n",
            "max_pooling2d_79 (MaxPooling (None, 2, 2, 64)          0         \n",
            "_________________________________________________________________\n",
            "flatten_44 (Flatten)         (None, 256)               0         \n",
            "_________________________________________________________________\n",
            "dense_47 (Dense)             (None, 10)                2570      \n",
            "=================================================================\n",
            "Total params: 21,962\n",
            "Trainable params: 21,962\n",
            "Non-trainable params: 0\n",
            "_________________________________________________________________\n",
            "Model: \"decoder\"\n",
            "_________________________________________________________________\n",
            "Layer (type)                 Output Shape              Param #   \n",
            "=================================================================\n",
            "input_46 (InputLayer)        (None, 10)                0         \n",
            "_________________________________________________________________\n",
            "dense_48 (Dense)             (None, 32768)             360448    \n",
            "_________________________________________________________________\n",
            "reshape_11 (Reshape)         (None, 32, 32, 32)        0         \n",
            "_________________________________________________________________\n",
            "conv2d_transpose_7 (Conv2DTr (None, 32, 32, 3)         867       \n",
            "=================================================================\n",
            "Total params: 361,315\n",
            "Trainable params: 361,315\n",
            "Non-trainable params: 0\n",
            "_________________________________________________________________\n"
          ],
          "name": "stdout"
        }
      ]
    },
    {
      "cell_type": "code",
      "metadata": {
        "id": "Mn5f3SinTf_h",
        "colab_type": "code",
        "colab": {
          "base_uri": "https://localhost:8080/",
          "height": 255
        },
        "outputId": "3332323f-db82-4e3f-8379-0cf04f8ad7dd"
      },
      "source": [
        "autoencoder_outputs = decoder(encoder(i))\n",
        "autoencoder = Model(i, autoencoder, name='autoencoder')\n",
        "autoencoder.summary()"
      ],
      "execution_count": 70,
      "outputs": [
        {
          "output_type": "stream",
          "text": [
            "Model: \"autoencoder\"\n",
            "_________________________________________________________________\n",
            "Layer (type)                 Output Shape              Param #   \n",
            "=================================================================\n",
            "input_45 (InputLayer)        (None, 32, 32, 3)         0         \n",
            "_________________________________________________________________\n",
            "encoder (Model)              (None, 10)                21962     \n",
            "_________________________________________________________________\n",
            "decoder (Model)              (None, 32, 32, 3)         361315    \n",
            "=================================================================\n",
            "Total params: 383,277\n",
            "Trainable params: 383,277\n",
            "Non-trainable params: 0\n",
            "_________________________________________________________________\n"
          ],
          "name": "stdout"
        }
      ]
    },
    {
      "cell_type": "code",
      "metadata": {
        "id": "YcOG15wsecbl",
        "colab_type": "code",
        "colab": {
          "base_uri": "https://localhost:8080/",
          "height": 153
        },
        "outputId": "0fa07903-4627-460c-eeb7-d2d268129e71"
      },
      "source": [
        "autoencoder.compile(optimizer='adam', loss='categorical_crossentropy', metrics=['accuracy'])\n",
        "autoencoder.fit(x_train, x_train, validation_data=(x_test, x_test), epochs=3)"
      ],
      "execution_count": 71,
      "outputs": [
        {
          "output_type": "stream",
          "text": [
            "Train on 9000 samples, validate on 10000 samples\n",
            "Epoch 1/3\n",
            "9000/9000 [==============================] - 22s 2ms/step - loss: nan - accuracy: 0.5110 - val_loss: nan - val_accuracy: 0.5086\n",
            "Epoch 2/3\n",
            "9000/9000 [==============================] - 22s 2ms/step - loss: nan - accuracy: 0.5114 - val_loss: nan - val_accuracy: 0.5086\n",
            "Epoch 3/3\n",
            "9000/9000 [==============================] - 22s 2ms/step - loss: nan - accuracy: 0.5114 - val_loss: nan - val_accuracy: 0.5086\n"
          ],
          "name": "stdout"
        },
        {
          "output_type": "execute_result",
          "data": {
            "text/plain": [
              "<keras.callbacks.callbacks.History at 0x7feaf7b6eb00>"
            ]
          },
          "metadata": {
            "tags": []
          },
          "execution_count": 71
        }
      ]
    },
    {
      "cell_type": "code",
      "metadata": {
        "id": "WjObjy3mTvaX",
        "colab_type": "code",
        "colab": {
          "base_uri": "https://localhost:8080/",
          "height": 231
        },
        "outputId": "b8da093a-5f70-4f47-9f88-fae71fdcd14c"
      },
      "source": [
        "# Loss plot\n",
        "history_dict = history.history\n",
        "loss_values = history_dict['loss']\n",
        "val_loss_values = history_dict['val_loss']\n",
        "epochs = range(1, len(loss_values) + 1)\n",
        "plt.plot(epochs, loss_values, 'bo', label='Training loss')\n",
        "plt.plot(epochs, val_loss_values, 'b', label='Validation loss')\n",
        "plt.title('Training and validation loss')\n",
        "plt.xlabel('Epochs')\n",
        "plt.ylabel('Loss')\n",
        "plt.legend()\n",
        "plt.show()\n",
        "\n",
        "# Accuracy plot\n",
        "plt.clf()\n",
        "acc_values = history_dict['acc']\n",
        "val_acc_values = history_dict['val_acc']\n",
        "plt.plot(epochs, acc_values, 'bo', label='Training acc')\n",
        "plt.plot(epochs, val_acc_values, 'b', label='Validation acc')\n",
        "plt.title('Training and validation accuracy')\n",
        "plt.xlabel('Epochs')\n",
        "plt.ylabel('Loss')\n",
        "plt.legend()\n",
        "plt.show()"
      ],
      "execution_count": 72,
      "outputs": [
        {
          "output_type": "error",
          "ename": "NameError",
          "evalue": "ignored",
          "traceback": [
            "\u001b[0;31m---------------------------------------------------------------------------\u001b[0m",
            "\u001b[0;31mNameError\u001b[0m                                 Traceback (most recent call last)",
            "\u001b[0;32m<ipython-input-72-86ab5ec1a8e3>\u001b[0m in \u001b[0;36m<module>\u001b[0;34m()\u001b[0m\n\u001b[1;32m      1\u001b[0m \u001b[0;31m# Loss plot\u001b[0m\u001b[0;34m\u001b[0m\u001b[0;34m\u001b[0m\u001b[0;34m\u001b[0m\u001b[0m\n\u001b[0;32m----> 2\u001b[0;31m \u001b[0mhistory_dict\u001b[0m \u001b[0;34m=\u001b[0m \u001b[0mhistory\u001b[0m\u001b[0;34m.\u001b[0m\u001b[0mhistory\u001b[0m\u001b[0;34m\u001b[0m\u001b[0;34m\u001b[0m\u001b[0m\n\u001b[0m\u001b[1;32m      3\u001b[0m \u001b[0mloss_values\u001b[0m \u001b[0;34m=\u001b[0m \u001b[0mhistory_dict\u001b[0m\u001b[0;34m[\u001b[0m\u001b[0;34m'loss'\u001b[0m\u001b[0;34m]\u001b[0m\u001b[0;34m\u001b[0m\u001b[0;34m\u001b[0m\u001b[0m\n\u001b[1;32m      4\u001b[0m \u001b[0mval_loss_values\u001b[0m \u001b[0;34m=\u001b[0m \u001b[0mhistory_dict\u001b[0m\u001b[0;34m[\u001b[0m\u001b[0;34m'val_loss'\u001b[0m\u001b[0;34m]\u001b[0m\u001b[0;34m\u001b[0m\u001b[0;34m\u001b[0m\u001b[0m\n\u001b[1;32m      5\u001b[0m \u001b[0mepochs\u001b[0m \u001b[0;34m=\u001b[0m \u001b[0mrange\u001b[0m\u001b[0;34m(\u001b[0m\u001b[0;36m1\u001b[0m\u001b[0;34m,\u001b[0m \u001b[0mlen\u001b[0m\u001b[0;34m(\u001b[0m\u001b[0mloss_values\u001b[0m\u001b[0;34m)\u001b[0m \u001b[0;34m+\u001b[0m \u001b[0;36m1\u001b[0m\u001b[0;34m)\u001b[0m\u001b[0;34m\u001b[0m\u001b[0;34m\u001b[0m\u001b[0m\n",
            "\u001b[0;31mNameError\u001b[0m: name 'history' is not defined"
          ]
        }
      ]
    }
  ]
}